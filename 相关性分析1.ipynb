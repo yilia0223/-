{
 "cells": [
  {
   "cell_type": "code",
   "execution_count": 2,
   "id": "ac14ebdf-7ab8-4066-9907-df49264e44fe",
   "metadata": {},
   "outputs": [
    {
     "name": "stdout",
     "output_type": "stream",
     "text": [
      "         Date     Average     Price        Ab  Unnamed: 0     Senti      Abso\n",
      "0  2024-01-04  451.876667  0.000000  0.000000         297  0.000000  0.000000\n",
      "1  2024-01-05  452.282222  0.405556  0.405556         298  0.000000  0.000000\n",
      "2  2024-01-08  451.347778 -0.934444  0.934444         301 -0.221625  0.221625\n",
      "3  2024-01-09  452.886000  1.538222  1.538222         302  0.000000  0.000000\n",
      "4  2024-01-10  449.792222 -3.093778  3.093778         303  0.074991  0.074991\n",
      "..        ...         ...       ...       ...         ...       ...       ...\n",
      "93 2024-05-29  556.060000  1.545000  1.545000         423 -0.024830  0.024830\n",
      "94 2024-05-30  551.170000 -4.890000  4.890000         424 -0.038838  0.038838\n",
      "95 2024-05-31  552.900000  1.730000  1.730000         425 -0.077276  0.077276\n",
      "96 2024-06-03  550.075000 -2.825000  2.825000         428 -0.001206  0.001206\n",
      "97 2024-06-04  553.190000  3.115000  3.115000         429  0.137611  0.137611\n",
      "\n",
      "[98 rows x 7 columns]\n"
     ]
    }
   ],
   "source": [
    "import pandas as pd\n",
    "\n",
    "price_df = pd.read_csv(r\"C:\\Users\\86183\\Desktop\\average_prices.csv\")\n",
    "senti_df = pd.read_csv(r\"C:\\Users\\86183\\Desktop\\all_senti.csv\")\n",
    "\n",
    "price_df['Date'] = pd.to_datetime(price_df['Date'])\n",
    "senti_df['Date'] = pd.to_datetime(senti_df['Date'])\n",
    "merged_df = pd.merge(price_df, senti_df, on='Date', how='inner')\n",
    "\n",
    "print(merged_df)"
   ]
  },
  {
   "cell_type": "code",
   "execution_count": 8,
   "id": "72e22d80-4e62-4f1a-ab6b-fa0c990bd343",
   "metadata": {},
   "outputs": [
    {
     "name": "stdout",
     "output_type": "stream",
     "text": [
      "Correlation between senti and price: 0.0847588215475701\n"
     ]
    }
   ],
   "source": [
    "correlation = merged_df['Price'].corr(merged_df['Senti'])\n",
    "print(f\"Correlation between senti and price: {correlation}\")"
   ]
  },
  {
   "cell_type": "code",
   "execution_count": 7,
   "id": "73ebbffa-147b-413b-bd3e-8219d643af1b",
   "metadata": {},
   "outputs": [
    {
     "name": "stdout",
     "output_type": "stream",
     "text": [
      "                            OLS Regression Results                            \n",
      "==============================================================================\n",
      "Dep. Variable:                  Price   R-squared:                       0.007\n",
      "Model:                            OLS   Adj. R-squared:                 -0.003\n",
      "Method:                 Least Squares   F-statistic:                    0.6947\n",
      "Date:                Wed, 12 Jun 2024   Prob (F-statistic):              0.407\n",
      "Time:                        01:12:39   Log-Likelihood:                -300.20\n",
      "No. Observations:                  98   AIC:                             604.4\n",
      "Df Residuals:                      96   BIC:                             609.6\n",
      "Df Model:                           1                                         \n",
      "Covariance Type:            nonrobust                                         \n",
      "==============================================================================\n",
      "                 coef    std err          t      P>|t|      [0.025      0.975]\n",
      "------------------------------------------------------------------------------\n",
      "const          1.0398      0.528      1.968      0.052      -0.009       2.089\n",
      "Senti          4.5285      5.433      0.833      0.407      -6.257      15.313\n",
      "==============================================================================\n",
      "Omnibus:                       79.075   Durbin-Watson:                   1.873\n",
      "Prob(Omnibus):                  0.000   Jarque-Bera (JB):              956.326\n",
      "Skew:                           2.332   Prob(JB):                    2.17e-208\n",
      "Kurtosis:                      17.576   Cond. No.                         10.3\n",
      "==============================================================================\n",
      "\n",
      "Notes:\n",
      "[1] Standard Errors assume that the covariance matrix of the errors is correctly specified.\n"
     ]
    },
    {
     "data": {
      "text/plain": [
       "<matplotlib.legend.Legend at 0x18146bf80d0>"
      ]
     },
     "execution_count": 7,
     "metadata": {},
     "output_type": "execute_result"
    },
    {
     "data": {
      "image/png": "[encoded data removed]",
      "text/plain": [
       "<Figure size 640x480 with 1 Axes>"
      ]
     },
     "metadata": {},
     "output_type": "display_data"
    }
   ],
   "source": [
    "import statsmodels.api as sm\n",
    "import matplotlib.pyplot as plt\n",
    "X = merged_df['Senti']\n",
    "y = merged_df['Price']\n",
    "X = sm.add_constant(X)  # 添加常数项\n",
    "model = sm.OLS(y, X).fit()\n",
    "print(model.summary())\n",
    "plt.scatter(merged_df['Senti'], merged_df['Price'], label='Data Points')\n",
    "plt.plot(merged_df['Senti'], model.predict(X), color='red', label='Regression Line')\n",
    "plt.xlabel('Sentiment')\n",
    "plt.ylabel('Price')\n",
    "plt.legend()"
   ]
  },
  {
   "cell_type": "code",
   "execution_count": 4,
   "id": "7bc8ca53-9bda-41ff-b5b3-5007f2f8383e",
   "metadata": {},
   "outputs": [],
   "source": [
    "data_price = merged_df['Price'].values\n",
    "data_sentiment = merged_df['Senti'].values"
   ]
  },
  {
   "cell_type": "code",
   "execution_count": 7,
   "id": "5e177618-d650-4c03-a9ca-603656ab8627",
   "metadata": {},
   "outputs": [
    {
     "name": "stdout",
     "output_type": "stream",
     "text": [
      "Gini coefficient for Price: 2.270815039829072\n",
      "Gini coefficient for Sentiment: 50.565685440940975\n"
     ]
    }
   ],
   "source": [
    "import numpy as np\n",
    "def gini_coefficient(data):\n",
    "    data = np.array(data)\n",
    "    n = len(data)\n",
    "    data = np.sort(data)\n",
    "    index = np.arange(1, n+1)\n",
    "    numerator = np.sum((2 * index - n - 1) * data)\n",
    "    denominator = n * np.sum(data)\n",
    "    gini = numerator / denominator\n",
    "    return gini\n",
    "\n",
    "gini = gini_coefficient(data_price)\n",
    "print(\"Gini coefficient for Price:\", gini)\n",
    "\n",
    "gini = gini_coefficient(data_sentiment)\n",
    "print(\"Gini coefficient for Sentiment:\", gini)"
   ]
  },
  {
   "cell_type": "code",
   "execution_count": null,
   "id": "064933b0-66bd-45e7-ad43-995a7ab06b41",
   "metadata": {},
   "outputs": [],
   "source": []
  },
  {
   "cell_type": "code",
   "execution_count": null,
   "id": "1b6a7f53-b296-4fdb-bf77-01037c70ddb4",
   "metadata": {},
   "outputs": [],
   "source": []
  }
 ],
 "metadata": {
  "kernelspec": {
   "display_name": "Python 3 (ipykernel)",
   "language": "python",
   "name": "python3"
  },
  "language_info": {
   "codemirror_mode": {
    "name": "ipython",
    "version": 3
   },
   "file_extension": ".py",
   "mimetype": "text/x-python",
   "name": "python",
   "nbconvert_exporter": "python",
   "pygments_lexer": "ipython3",
   "version": "3.11.7"
  }
 },
 "nbformat": 4,
 "nbformat_minor": 5
}
