{
 "cells": [
  {
   "cell_type": "code",
   "execution_count": 1,
   "id": "ac14ebdf-7ab8-4066-9907-df49264e44fe",
   "metadata": {},
   "outputs": [
    {
     "name": "stdout",
     "output_type": "stream",
     "text": [
      "         Date     Average     Price     Senti\n",
      "0  2024-01-04  451.876667  0.000000  0.000000\n",
      "1  2024-01-05  452.282222  0.405556  0.000000\n",
      "2  2024-01-08  451.347778 -0.934444  0.108440\n",
      "3  2024-01-09  452.886000  1.538222  0.000000\n",
      "4  2024-01-10  449.792222 -3.093778  0.124985\n",
      "..        ...         ...       ...       ...\n",
      "93 2024-05-29  556.060000  1.545000 -0.041383\n",
      "94 2024-05-30  551.170000 -4.890000 -0.064730\n",
      "95 2024-05-31  552.900000  1.730000 -0.045261\n",
      "96 2024-06-03  550.075000 -2.825000 -0.002011\n",
      "97 2024-06-04  553.190000  3.115000 -0.212764\n",
      "\n",
      "[98 rows x 4 columns]\n"
     ]
    }
   ],
   "source": [
    "import pandas as pd\n",
    "\n",
    "price_df = pd.read_csv(r\"C:\\Users\\86183\\Desktop\\average_prices.csv\")\n",
    "senti_df = pd.read_csv(r\"C:\\Users\\86183\\Desktop\\news_senti.csv\")\n",
    "\n",
    "price_df['Date'] = pd.to_datetime(price_df['Date'])\n",
    "senti_df['Date'] = pd.to_datetime(senti_df['Date'])\n",
    "merged_df = pd.merge(price_df, senti_df, on='Date', how='inner')\n",
    "\n",
    "print(merged_df)"
   ]
  },
  {
   "cell_type": "code",
   "execution_count": 2,
   "id": "72e22d80-4e62-4f1a-ab6b-fa0c990bd343",
   "metadata": {},
   "outputs": [
    {
     "name": "stdout",
     "output_type": "stream",
     "text": [
      "Correlation between senti and price: 0.0923507535105262\n"
     ]
    }
   ],
   "source": [
    "correlation = merged_df['Senti'].corr(merged_df['Price'])\n",
    "print(f\"Correlation between senti and price: {correlation}\")"
   ]
  },
  {
   "cell_type": "code",
   "execution_count": 3,
   "id": "73ebbffa-147b-413b-bd3e-8219d643af1b",
   "metadata": {},
   "outputs": [
    {
     "name": "stdout",
     "output_type": "stream",
     "text": [
      "                            OLS Regression Results                            \n",
      "==============================================================================\n",
      "Dep. Variable:                  Price   R-squared:                       0.009\n",
      "Model:                            OLS   Adj. R-squared:                 -0.002\n",
      "Method:                 Least Squares   F-statistic:                    0.8258\n",
      "Date:                Wed, 12 Jun 2024   Prob (F-statistic):              0.366\n",
      "Time:                        01:58:37   Log-Likelihood:                -300.14\n",
      "No. Observations:                  98   AIC:                             604.3\n",
      "Df Residuals:                      96   BIC:                             609.4\n",
      "Df Model:                           1                                         \n",
      "Covariance Type:            nonrobust                                         \n",
      "==============================================================================\n",
      "                 coef    std err          t      P>|t|      [0.025      0.975]\n",
      "------------------------------------------------------------------------------\n",
      "const          0.9835      0.532      1.848      0.068      -0.073       2.040\n",
      "Senti          4.0439      4.450      0.909      0.366      -4.789      12.877\n",
      "==============================================================================\n",
      "Omnibus:                       80.644   Durbin-Watson:                   1.863\n",
      "Prob(Omnibus):                  0.000   Jarque-Bera (JB):             1004.334\n",
      "Skew:                           2.388   Prob(JB):                    8.16e-219\n",
      "Kurtosis:                      17.938   Cond. No.                         8.43\n",
      "==============================================================================\n",
      "\n",
      "Notes:\n",
      "[1] Standard Errors assume that the covariance matrix of the errors is correctly specified.\n"
     ]
    },
    {
     "data": {
      "text/plain": [
       "<matplotlib.legend.Legend at 0x1e4cac2d5d0>"
      ]
     },
     "execution_count": 3,
     "metadata": {},
     "output_type": "execute_result"
    },
    {
     "data": {
      "image/png": "[encoded data removed]",
      "text/plain": [
       "<Figure size 640x480 with 1 Axes>"
      ]
     },
     "metadata": {},
     "output_type": "display_data"
    }
   ],
   "source": [
    "import statsmodels.api as sm\n",
    "import matplotlib.pyplot as plt\n",
    "X = merged_df['Senti']\n",
    "y = merged_df['Price']\n",
    "X = sm.add_constant(X)  # 添加常数项\n",
    "model = sm.OLS(y, X).fit()\n",
    "print(model.summary())\n",
    "plt.scatter(merged_df['Senti'], merged_df['Price'], label='Data Points')\n",
    "plt.plot(merged_df['Senti'], model.predict(X), color='red', label='Regression Line')\n",
    "plt.xlabel('Sentiment')\n",
    "plt.ylabel('Price')\n",
    "plt.legend()"
   ]
  },
  {
   "cell_type": "code",
   "execution_count": null,
   "id": "d97279a6-3842-4924-b493-4a4e5565aa29",
   "metadata": {},
   "outputs": [],
   "source": []
  }
 ],
 "metadata": {
  "kernelspec": {
   "display_name": "Python 3 (ipykernel)",
   "language": "python",
   "name": "python3"
  },
  "language_info": {
   "codemirror_mode": {
    "name": "ipython",
    "version": 3
   },
   "file_extension": ".py",
   "mimetype": "text/x-python",
   "name": "python",
   "nbconvert_exporter": "python",
   "pygments_lexer": "ipython3",
   "version": "3.11.7"
  }
 },
 "nbformat": 4,
 "nbformat_minor": 5
}
